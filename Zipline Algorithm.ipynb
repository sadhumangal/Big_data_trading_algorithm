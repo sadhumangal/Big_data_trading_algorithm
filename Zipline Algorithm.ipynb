{
 "cells": [
  {
   "cell_type": "markdown",
   "metadata": {},
   "source": [
    "# Trading strategy implementation with Zipline"
   ]
  },
  {
   "cell_type": "markdown",
   "metadata": {
    "collapsed": true
   },
   "source": [
    "This is the script for implementing our trading algorithm with Zipline Librairy and Quantopian platform. \n",
    " Credits:\n",
    " http://www.zipline.io/index.html\n",
    " https://www.quantopian.com/"
   ]
  },
  {
   "cell_type": "code",
   "execution_count": null,
   "metadata": {
    "collapsed": false,
    "scrolled": true
   },
   "outputs": [],
   "source": [
    "from zipline.api import (symbol,sid, order, record, fetch_csv,set_benchmark,schedule_function,\n",
    "        date_rules,time_rules,order_target_percent,order_target,get_datetime,set_commission,commission )\n",
    "from zipline import run_algorithm\n",
    "import numpy as np\n",
    "import datetime\n",
    "import matplotlib.pyplot as plt\n",
    "import pytz\n",
    "from datetime import datetime\n",
    "import pandas as pd\n",
    "\n",
    "\n",
    "def drop_na(df):\n",
    "    return df.fillna(0)\n",
    "\n",
    "def backtest(ticker,delta_t1,delta_t2):\n",
    "    def initialize(context):\n",
    "        # This is the search query we are using, this is tied to the csv file.\n",
    "        context.query = str(ticker)  #column name for each stock in our universe\n",
    "        # User fetcher to get data. I uploaded this csv file manually.\n",
    "        # Note that this data is daily averages.\n",
    "        fetch_csv(csv_file_path ,  #\n",
    "                  date_format='%Y-%m-%d',\n",
    "                  pre_func =drop_na,\n",
    "                  symbol='wiki',\n",
    "                  skiprows=0\n",
    "        )\n",
    "        \n",
    "        # set_commission(commission.PerTrade(cost=0.00 )) Optionnal: Set the transaction cost\n",
    "        \n",
    "         #Define our securities, global variables, and schedule when to trade.\n",
    "        context.security = symbol('SPY')\n",
    "        #set_benchmark(symbol(ticker)) # S&P5000 # stock refering to context.query \n",
    "        \n",
    "        #we trade every day at market opening time\n",
    "        schedule_function(rebalance, \n",
    "                          date_rule=date_rules.every_day(), #day or week\n",
    "                          time_rule=time_rules.market_open())\n",
    "\n",
    "        context.past_queries_t1 = []\n",
    "        context.past_queries_t2 = []\n",
    "\n",
    "    def rebalance(context, data):\n",
    "        c = context\n",
    "        dt=get_datetime()\n",
    "        # Extract weekly average of search query.\n",
    "        indicator = data.current('wiki',c.query);  #c.query=nom de la colonne dans data\n",
    "        \n",
    "        '''Compute the moving average t1'''\n",
    "        # Track our fetched values in a context variable to build up history.\n",
    "        context.past_queries_t1.append(indicator)\n",
    "\n",
    "        if len(context.past_queries_t1) > delta_t1:\n",
    "            del context.past_queries_t1[0]\n",
    "\n",
    "        if len(context.past_queries_t1) == delta_t1:\n",
    "            # Compute average over weeks in range\n",
    "            mean_indicator_t1 = np.mean(context.past_queries_t1)\n",
    "            \n",
    "        ''' Compute the moving average t2''' \n",
    "        # Track our fetched values in a context variable to build up history.\n",
    "        context.past_queries_t2.append(indicator)\n",
    "\n",
    "        if len(context.past_queries_t2) > delta_t2:\n",
    "            del context.past_queries_t2[0]\n",
    "\n",
    "        if len(context.past_queries_t2) == delta_t2:\n",
    "            # Compute average over weeks in range\n",
    "            mean_indicator_t2 = np.mean(context.past_queries_t2)\n",
    "            \n",
    "            # Long or short depending on whether moving averages level.\n",
    "            # went down or up, respectively.\n",
    "            if np.isnan(mean_indicator_t2):\n",
    "                order_target_percent(c.security, 0)\n",
    "  \n",
    "            elif mean_indicator_t1>mean_indicator_t2 and data.can_trade(c.security):\n",
    "                order_target_percent(c.security, -1.0)\n",
    "\n",
    "            elif mean_indicator_t1<mean_indicator_t2  and data.can_trade(c.security):\n",
    "                order_target_percent(c.security, 1.0)\n",
    "            else:\n",
    "                order_target_percent(c.security, 0)\n",
    "                \n",
    "    # Set up the stuff for running the trading simulation\n",
    "    start = datetime(2008, 1, 1, 0, 0, 0, 0, pytz.utc)\n",
    "    end = datetime(2016, 12, 31, 0, 0, 0, 0, pytz.utc)\n",
    "    base_capital = 10000\n",
    "\n",
    "    # run the trading algorithm and save the results in perf\n",
    "    perf = run_algorithm(start, end, initialize, base_capital,bundle = 'quantopian-quandl')\n",
    "    return perf"
   ]
  },
  {
   "cell_type": "markdown",
   "metadata": {},
   "source": [
    "### Launch series of backtest"
   ]
  },
  {
   "cell_type": "code",
   "execution_count": null,
   "metadata": {
    "collapsed": false
   },
   "outputs": [],
   "source": [
    "\n",
    "file=pd.read_csv('',index_col=0) #Search query csv file path\n",
    "period_return=pd.DataFrame()\n",
    "temp=pd.DataFrame()\n",
    "\n",
    "list_delta_t1=[,] # List of short maturity moving av in days\n",
    "list_delta_t2=[,,] #List of long maturity moving av in days\n",
    "\n",
    "#for each keywords in sample \n",
    "for column in file.columns:\n",
    "    \n",
    "#calculate the return over the total period for various maturity of moving average    \n",
    "    for delta_t1 in list_delta_t1:\n",
    "        for delta_t2 in list_delta_t2:\n",
    "            if delta_t1<delta_t2:\n",
    "                try:\n",
    "                    # for each tuple (delta_t1,delta_t2), compute the end of period return\n",
    "                    temp[(delta_t1,delta_t2)]=[return_over_period(column,delta_t1,delta_t2)]   #column name is tuple with (delta_t1,delta_t2)\n",
    "                    temp.index=[str(column)]\n",
    "                    print(temp.T.tail())#index is the stock name\n",
    "                except:\n",
    "                    pass\n",
    "                \n",
    "    period_return=pd.concat([period_return,temp.T],axis=1,join='outer')\n",
    "    \n",
    "period_return.to_excel('## Output')                "
   ]
  }
 ],
 "metadata": {
  "anaconda-cloud": {},
  "kernelspec": {
   "display_name": "Python [py34]",
   "language": "python",
   "name": "Python [py34]"
  },
  "language_info": {
   "codemirror_mode": {
    "name": "ipython",
    "version": 3
   },
   "file_extension": ".py",
   "mimetype": "text/x-python",
   "name": "python",
   "nbconvert_exporter": "python",
   "pygments_lexer": "ipython3",
   "version": "3.4.5"
  }
 },
 "nbformat": 4,
 "nbformat_minor": 0
}
