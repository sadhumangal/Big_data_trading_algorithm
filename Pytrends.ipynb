{
 "cells": [
  {
   "cell_type": "markdown",
   "metadata": {},
   "source": [
    "## This Batch queries daily data from Google Trends over long period - ONLY FOR US "
   ]
  },
  {
   "cell_type": "markdown",
   "metadata": {},
   "source": [
    "This script allows the user to automatically download over a long time period daily granulated data from Google Trends.<br>\n",
    "This is only for Google Search perfomed in the US."
   ]
  },
  {
   "cell_type": "code",
   "execution_count": null,
   "metadata": {
    "collapsed": false
   },
   "outputs": [],
   "source": [
    "#import modules to query data\n",
    "import socket\n",
    "import socks\n",
    "\n",
    "import requests\n",
    "from bs4 import BeautifulSoup\n",
    "\n",
    "#connect to Tor Browser\n",
    "from stem import Signal\n",
    "from stem.control import Controller\n",
    "controller = Controller.from_port(port=9151)\n",
    "controller.authenticate()\n",
    "\n",
    "def connectTor():\n",
    "    socks.setdefaultproxy(socks.PROXY_TYPE_SOCKS5 , \"127.0.0.1\", 9150, True)\n",
    "    socket.socket = socks.socksocket\n",
    "        \n",
    "def disconnectTor():\n",
    "    controller.close()\n",
    "        \n",
    "def renew_tor():\n",
    "    controller.signal(Signal.NEWNYM)\n",
    "\n",
    "def showmyip():\n",
    "    url = \"http://www.showmyip.gr/\"\n",
    "    r = requests.Session()\n",
    "    page = r.get(url)\n",
    "    soup = BeautifulSoup(page.content, \"lxml\")\n",
    "    ip_address = soup.find(\"span\",{\"class\":\"ip_address\"}).text.strip()\n",
    "    print(ip_address)\n"
   ]
  },
  {
   "cell_type": "markdown",
   "metadata": {},
   "source": [
    "### General Query Batch"
   ]
  },
  {
   "cell_type": "code",
   "execution_count": null,
   "metadata": {
    "collapsed": false
   },
   "outputs": [],
   "source": [
    "import pandas as pd\n",
    "import numpy as np\n",
    "from io import StringIO\n",
    "import requests\n",
    "import re\n",
    "import time\n",
    "import datetime\n",
    "from random import randint\n",
    "#payload  = {'q': 'apple', 'geo':'US','start_date': '2012-01-25','end_date': '2017-01-25'} payload style\n",
    "# This script is based on unofficial Pytrends API  https://github.com/GeneralMills/pytrends \n",
    "#As Google has changed recently their API, I manually changed the script to fit my requirements  \n",
    "\n",
    "def PyTrends(payload):\n",
    "    #first we need to get the token from Google Trends\n",
    "    #get the url with the token \n",
    "    r = requests.get(\n",
    "                \"https://www.google.com/trends/api/explore?hl=en-US&tz=360&req=%7B%22comparisonItem%22:%5B%7B%22keyword%22:%22{0}%22,%22geo%22:%22{1}%22,%22time%22:%22{2}%20{3}%22%7D%5D,%22category%22:0,%22property%22:%22%22%7D&tz=360\" .format(payload['q'],payload['geo'],payload['start_date'],payload['end_date']))\n",
    "    match = re.search('token', r.text)\n",
    "    \n",
    "    start = match.start()\n",
    "    token = r.text[start + 8:start + 52] #get the token\n",
    "    \n",
    "    #download results\n",
    "    req_url =\"https://www.google.com/trends/api/widgetdata/multiline/csv?req=%7B%22time%22%3A%22{0}%20{1}%22%2C%22resolution%22%3A%22DAY%22%2C%22locale%22%3A%22en-US%22%2C%22comparisonItem%22%3A%5B%7B%22geo%22%3A%7B%22country%22%3A%22US%22%7D%2C%22complexKeywordsRestriction%22%3A%7B%22keyword%22%3A%5B%7B%22type%22%3A%22BROAD%22%2C%22value%22%3A%22{2}%22%7D%5D%7D%7D%5D%2C%22requestOptions%22%3A%7B%22property%22%3A%22%22%2C%22backend%22%3A%22IZG%22%2C%22category%22%3A0%7D%7D&token={3}&tz=360\" .format(payload['start_date'],payload['end_date'],payload['q'],token)\n",
    "\n",
    "    req = requests.get(req_url)\n",
    "    text=req.text\n",
    "    data=StringIO(text)\n",
    "    df=pd.read_csv(data,sep='\\n',delimiter=',',skiprows=1,index_col=0)[::-1]\n",
    "    return df\n",
    "\n"
   ]
  },
  {
   "cell_type": "markdown",
   "metadata": {},
   "source": [
    "### Daily Data Google Trends Batch"
   ]
  },
  {
   "cell_type": "code",
   "execution_count": null,
   "metadata": {
    "collapsed": false
   },
   "outputs": [],
   "source": [
    "\n",
    "### Return all daily data From google trends\n",
    "\n",
    "def Pytrends_daily(payload):\n",
    "    start_date=str(payload['start_date'])\n",
    "    end_date=str(payload['end_date'])\n",
    "    keyword=str(payload['q'])\n",
    "    \n",
    "    \"\"\"First Period\"\"\"\n",
    "    period_end_date=end_date\n",
    "    \n",
    "    #compute the beginning date of the period\n",
    "    d=datetime.datetime.strptime(end_date, '%Y-%m-%d')+pd.DateOffset(months=-8)  #offset 8 months ealier max if daily \n",
    "    period_start_date=d.strftime('%Y-%m-%d')\n",
    "    payload= {'q': keyword, 'geo':'US','start_date': period_start_date,'end_date': period_end_date}\n",
    "\n",
    "    #request data from Google Trends for the first period\n",
    "    dailyData=PyTrends(payload)\n",
    "    \n",
    "    #for the period the end_date is the start_date of the previous period\n",
    "    period_end_date=period_start_date\n",
    "  \n",
    "    RemainingTime=d-datetime.datetime.strptime(start_date, '%Y-%m-%d')\n",
    "    \n",
    "    \"\"\" Loop\"\"\"\n",
    "    while   RemainingTime.days >0:\n",
    "        \n",
    "        d=datetime.datetime.strptime(period_end_date, '%Y-%m-%d')+pd.DateOffset(months=-8)  #offset 8 months ealier max if daily \n",
    "        period_start_date=d.strftime('%Y-%m-%d')\n",
    "        payload= {'q': keyword, 'geo':'US','start_date': period_start_date,'end_date': period_end_date}\n",
    "        \n",
    "        #request data from Google Trends for the new period \n",
    "        NewdailyData=PyTrends(payload)\n",
    "        \n",
    "        #for the period the end_date is the start_date of the previous period\n",
    "        period_end_date=period_start_date\n",
    "        \n",
    "        NewdailyData=NewdailyData[NewdailyData.index<=dailyData.index[-1]] \n",
    "        \n",
    "        #compute the coef in order to rescale the new data\n",
    "        MatrixFullCoef= pd.DataFrame(index=NewdailyData.index, columns=NewdailyData.columns)\n",
    "        #print(dailyData[-1:].index==NewdailyData[:1].index)\n",
    "        MatrixFullCoef[:1]=[np.mean(dailyData[-15:])[0]/np.mean(NewdailyData[:15])[0]]\n",
    "        \n",
    "        for i in range(len(MatrixFullCoef)):\n",
    "            MatrixFullCoef.iloc[i]=MatrixFullCoef.iloc[0]\n",
    "        \n",
    "        #Normalize the NewDailyData with the coef calculated before\n",
    "        AdjustedNewdailyData=(NewdailyData*MatrixFullCoef)[1:]\n",
    "        \n",
    "        #add the new data Frame of daily datas to the existing one\n",
    "        dailyData= dailyData.append(AdjustedNewdailyData,ignore_index=False)\n",
    "        \n",
    "        RemainingTime=d-datetime.datetime.strptime(start_date, '%Y-%m-%d')\n",
    "        \n",
    "    return dailyData"
   ]
  },
  {
   "cell_type": "markdown",
   "metadata": {},
   "source": [
    "### Read List of Keywords as inputs and query daily data along a customized time period"
   ]
  },
  {
   "cell_type": "code",
   "execution_count": null,
   "metadata": {
    "collapsed": false,
    "scrolled": true
   },
   "outputs": [],
   "source": [
    "\n",
    "#Load the inputs \n",
    "Input=pd.read_excel('C:/Users/Jean-Baptiste/Google Drive/M2/GoogleTrendsData/google/Inputs.xlsx', na_values='NA')\n",
    "\n",
    "Output=pd.DataFrame()\n",
    "\n",
    "for name in Input['Name']:\n",
    "    count=0\n",
    "    try:\n",
    "        payload = {'q': str(name), 'geo':'US','start_date': '2008-01-29','end_date': '2017-01-29'}\n",
    "        Data=Pytrends_daily(payload)\n",
    "        Output=pd.concat([Output,Data],axis=1,join='outer')\n",
    "        Output.to_excel('C:/Users/Jean-Baptiste/Google Drive/M2/GoogleTrendsData/google/Output.xlsx') \n",
    "        print('request ok')\n",
    "        print('{} restants'.format(len(Input)-len(Output.T)))\n",
    "        \n",
    "    except:\n",
    "        print('request failed')\n",
    "        time.sleep(randint(10,25))\n",
    "        renew_tor()\n",
    "        connectTor()\n",
    "        showmyip()\n",
    "        count+=1\n",
    "        if count>5:\n",
    "            pass\n",
    "    "
   ]
  },
  {
   "cell_type": "markdown",
   "metadata": {},
   "source": [
    "## Credit "
   ]
  },
  {
   "cell_type": "markdown",
   "metadata": {},
   "source": [
    "https://github.com/GeneralMills/pytrends#trend\n",
    "\n",
    "http://stackoverflow.com/questions/40406458/google-trends-quota-limit-ip-address-changer\n",
    "\n",
    "http://stackoverflow.com/questions/28035413/general-socks-server-failure-when-switching-identity-using-stem/34516846#34516846"
   ]
  }
 ],
 "metadata": {
  "anaconda-cloud": {},
  "kernelspec": {
   "display_name": "Python [Root]",
   "language": "python",
   "name": "Python [Root]"
  },
  "language_info": {
   "codemirror_mode": {
    "name": "ipython",
    "version": 3
   },
   "file_extension": ".py",
   "mimetype": "text/x-python",
   "name": "python",
   "nbconvert_exporter": "python",
   "pygments_lexer": "ipython3",
   "version": "3.5.2"
  }
 },
 "nbformat": 4,
 "nbformat_minor": 0
}
